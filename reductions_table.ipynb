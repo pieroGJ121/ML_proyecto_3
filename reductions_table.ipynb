{
 "cells": [
  {
   "cell_type": "code",
   "execution_count": 1,
   "metadata": {},
   "outputs": [],
   "source": [
    "import numpy as np\n",
    "import pandas as pd\n",
    "import matplotlib.pyplot as plt\n",
    "\n",
    "df = pd.read_csv('./datasets/training_r21d_all_10_mean.csv')       # data training con el target\n",
    "X_train = df.iloc[:,1:-2]\n",
    "Y_train = df.iloc[:, -2]"
   ]
  },
  {
   "cell_type": "code",
   "execution_count": 7,
   "metadata": {},
   "outputs": [
    {
     "name": "stdout",
     "output_type": "stream",
     "text": [
      "PCA :  (5424, 135)\n",
      "SVD :  (5424, 135)\n",
      "LDA :  (5424, 9)\n",
      "GaussRand :  (5424, 206)\n",
      "FA :  (5424, 7)\n",
      "UMAP :  (5424, 2)\n"
     ]
    }
   ],
   "source": [
    "from sklearn.decomposition import PCA\n",
    "from sklearn.preprocessing import StandardScaler\n",
    "from sklearn.decomposition import TruncatedSVD\n",
    "from sklearn.random_projection import GaussianRandomProjection\n",
    "from sklearn.discriminant_analysis import LinearDiscriminantAnalysis\n",
    "from sklearn.decomposition import FactorAnalysis\n",
    "import umap\n",
    "\n",
    "#escalar la data\n",
    "scaler = StandardScaler()\n",
    "data_scaled = scaler.fit_transform(X_train)\n",
    "X_train_scaled = data_scaled\n",
    "\n",
    "pca = PCA(n_components=135)\n",
    "X_pca = pca.fit_transform(X_train_scaled)\n",
    "\n",
    "svd = TruncatedSVD(n_components=135, n_iter=5, random_state=42) #cambiar numero de componentes\n",
    "X_svd = svd.fit_transform(X_train_scaled)\n",
    "\n",
    "lda = LinearDiscriminantAnalysis()\n",
    "X_lda = lda.fit_transform(X_train_scaled, Y_train)\n",
    "\n",
    "rng = np.random.RandomState(42)\n",
    "gauss_rand = GaussianRandomProjection(random_state=rng, eps=0.99)\n",
    "X_gauss_rand = gauss_rand.fit_transform(X_train_scaled)\n",
    "\n",
    "transformer = FactorAnalysis(n_components=7, random_state=0)\n",
    "X_fa = transformer.fit_transform(X_train_scaled)\n",
    "\n",
    "reducer = umap.UMAP() \n",
    "X_umap = pd.DataFrame(reducer.fit_transform(X_train_scaled))\n",
    "\n",
    "dim_reductions = [X_pca, X_svd, X_lda, X_gauss_rand, X_fa, X_umap]\n",
    "reductions = [\"PCA\", \"SVD\", \"LDA\", \"GaussRand\", \"FA\", \"UMAP\"]\n",
    "for i in range(len(dim_reductions)):\n",
    "    print(reductions[i],\": \", dim_reductions[i].shape)"
   ]
  },
  {
   "cell_type": "code",
   "execution_count": 8,
   "metadata": {},
   "outputs": [],
   "source": [
    "from sklearn.cluster import KMeans\n",
    "from sklearn.metrics import accuracy_score\n",
    "from sklearn.preprocessing import LabelEncoder\n",
    "from scipy.stats import mode\n",
    "\n",
    "def apply_kmeans_and_evaluate(X_train, y_train, X_test, y_test, n_clusters):\n",
    "    # Encodificar las etiquetas\n",
    "    label_encoder = LabelEncoder()\n",
    "    y_train_encoded = label_encoder.fit_transform(y_train)\n",
    "    y_test_encoded = label_encoder.transform(y_test)\n",
    "\n",
    "    # Aplicar Kmeans\n",
    "    kmeans = KMeans(n_clusters=n_clusters, random_state=42)\n",
    "    kmeans.fit(X_train)\n",
    "    y_train_pred = kmeans.predict(X_train)\n",
    "    y_test_pred = kmeans.predict(X_test)\n",
    "\n",
    "    labels_map = np.zeros_like(y_train_pred)\n",
    "    for i in range(n_clusters):\n",
    "        mask = (y_train_pred == i)\n",
    "        if np.any(mask):\n",
    "            labels_map[mask] = mode(y_train_encoded[mask])[0]\n",
    "\n",
    "    # Mapear las predicciones\n",
    "    y_test_pred_mapped = np.zeros_like(y_test_pred)\n",
    "    for i in range(n_clusters):\n",
    "        mask = (y_test_pred == i)\n",
    "        if np.any(mask):\n",
    "            y_test_pred_mapped[mask] = mode(y_train_encoded[(y_train_pred == i)])[0]\n",
    "\n",
    "    # Calcular accuracy\n",
    "    accuracy = accuracy_score(y_test_encoded, y_test_pred_mapped)\n",
    "    print(f'Accuracy: {accuracy * 100:.2f}%')\n",
    "\n",
    "n_clusters = len(np.unique(Y_train))\n"
   ]
  },
  {
   "cell_type": "code",
   "execution_count": 9,
   "metadata": {},
   "outputs": [
    {
     "name": "stdout",
     "output_type": "stream",
     "text": [
      "PCA\n",
      "Accuracy: 93.92%\n",
      "SVD\n",
      "Accuracy: 94.01%\n",
      "LDA\n",
      "Accuracy: 90.51%\n",
      "GaussRand\n",
      "Accuracy: 90.14%\n",
      "FA\n",
      "Accuracy: 88.20%\n",
      "UMAP\n",
      "Accuracy: 96.31%\n"
     ]
    }
   ],
   "source": [
    "from sklearn.model_selection import train_test_split\n",
    "for i in range(len(dim_reductions)):\n",
    "    x_train, x_test, y_train, y_test  = train_test_split(dim_reductions[i],Y_train, test_size=0.2, random_state=42)\n",
    "    print(reductions[i])\n",
    "    apply_kmeans_and_evaluate(x_train, y_train, x_test, y_test, n_clusters)\n"
   ]
  }
 ],
 "metadata": {
  "kernelspec": {
   "display_name": "venv",
   "language": "python",
   "name": "python3"
  },
  "language_info": {
   "codemirror_mode": {
    "name": "ipython",
    "version": 3
   },
   "file_extension": ".py",
   "mimetype": "text/x-python",
   "name": "python",
   "nbconvert_exporter": "python",
   "pygments_lexer": "ipython3",
   "version": "3.10.5"
  }
 },
 "nbformat": 4,
 "nbformat_minor": 2
}
